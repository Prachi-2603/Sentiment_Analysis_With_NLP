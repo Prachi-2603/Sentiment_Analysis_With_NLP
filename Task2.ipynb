{
 "cells": [
  {
   "cell_type": "code",
   "execution_count": 5,
   "id": "79cd9678-6159-479b-8aff-82dae8f2e089",
   "metadata": {},
   "outputs": [
    {
     "name": "stdout",
     "output_type": "stream",
     "text": [
      "Sample Data:\n",
      "                                               review sentiment\n",
      "0  One of the other reviewers has mentioned that ...  positive\n",
      "1  A wonderful little production. <br /><br />The...  positive\n",
      "2  I thought this was a wonderful way to spend ti...  positive\n",
      "3  Basically there's a family where a little boy ...  negative\n",
      "4  Petter Mattei's \"Love in the Time of Money\" is...  positive\n",
      "\n",
      "Accuracy: 0.894\n",
      "\n",
      "Classification Report:\n",
      "               precision    recall  f1-score   support\n",
      "\n",
      "    negative       0.91      0.88      0.89      4961\n",
      "    positive       0.88      0.91      0.90      5039\n",
      "\n",
      "    accuracy                           0.89     10000\n",
      "   macro avg       0.89      0.89      0.89     10000\n",
      "weighted avg       0.89      0.89      0.89     10000\n",
      "\n"
     ]
    }
   ],
   "source": [
    "# Step 1: Import Libraries\n",
    "import pandas as pd\n",
    "from sklearn.model_selection import train_test_split\n",
    "from sklearn.feature_extraction.text import TfidfVectorizer\n",
    "from sklearn.linear_model import LogisticRegression\n",
    "from sklearn.metrics import classification_report, accuracy_score\n",
    "\n",
    "# Step 2: Load Dataset from CSV file\n",
    "# Make sure to place your file path correctly here\n",
    "df = pd.read_csv(r\"C:\\Users\\Prachi Jariwala\\Desktop\\ML_Internship\\Task2\\IMDB Dataset.csv\")  #load the csv file into the table\n",
    "\n",
    "# Optional: Display first few rows\n",
    "print(\"Sample Data:\\n\", df.head()) #print the 1st 5 lines \n",
    "\n",
    "# Step 3: Preprocessing\n",
    "X = df['review'] #stores the actual values\n",
    "y = df['sentiment'] #stores labels negative or positive\n",
    "\n",
    "# Step 4: TF-IDF Vectorization\n",
    "tfidf = TfidfVectorizer(stop_words='english') #converts text into numbers, stop_words='english' removes common words like \"the\", \"is\", \"and\", etc\n",
    "X_vectorized = tfidf.fit_transform(X) #learns the vocabulary and transforms the text into numbers\n",
    "\n",
    "# Step 5: Train/Test Split\n",
    "X_train, X_test, y_train, y_test = train_test_split(X_vectorized, y, test_size=0.2, random_state=42) #X_vectorized=This is your TF-IDF transformed text data (i.e., reviews turned into numeric features), y=This is the target label — the sentiment (e.g., \"positive\", \"negative\"),20% data for testing and 80% for training\n",
    "\n",
    "# Step 6: Logistic Regression Model\n",
    "model = LogisticRegression()\n",
    "model.fit(X_train, y_train) #Trains it using the training data, so it learns how to predict sentiment from text\n",
    "\n",
    "# Step 7: Predictions & Evaluation\n",
    "y_pred = model.predict(X_test) #Uses the trained model to predict the sentiment of the test reviews\n",
    "print(\"\\nAccuracy:\", accuracy_score(y_test, y_pred))\n",
    "print(\"\\nClassification Report:\\n\", classification_report(y_test, y_pred))\n"
   ]
  },
  {
   "cell_type": "code",
   "execution_count": null,
   "id": "f3f7bf4b-347a-4889-be9a-5821d4f1fd72",
   "metadata": {},
   "outputs": [],
   "source": []
  }
 ],
 "metadata": {
  "kernelspec": {
   "display_name": "Python 3 (ipykernel)",
   "language": "python",
   "name": "python3"
  },
  "language_info": {
   "codemirror_mode": {
    "name": "ipython",
    "version": 3
   },
   "file_extension": ".py",
   "mimetype": "text/x-python",
   "name": "python",
   "nbconvert_exporter": "python",
   "pygments_lexer": "ipython3",
   "version": "3.12.9"
  }
 },
 "nbformat": 4,
 "nbformat_minor": 5
}
